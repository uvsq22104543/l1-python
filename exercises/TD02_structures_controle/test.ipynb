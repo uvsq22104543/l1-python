{
 "cells": [
  {
   "cell_type": "code",
   "execution_count": null,
   "metadata": {},
   "outputs": [],
   "source": [
    "\n",
    "''' L'instruction type(v) va afficher \"<class 'float'>\" si v = 35.0''' "
   ]
  },
  {
   "cell_type": "code",
   "execution_count": 28,
   "metadata": {},
   "outputs": [
    {
     "name": "stdout",
     "output_type": "stream",
     "text": [
      "Plus petit!\n"
     ]
    }
   ],
   "source": [
    "import random\n",
    "n = random.randint(0, 99)\n",
    "p = int(input(\"Entrez un nombre entre 0 et 99\"))\n",
    "\n",
    "if n < p:\n",
    "    print(\"Plus petit!\")\n",
    "elif n > p:\n",
    "    print(\"Plus grand!\")\n",
    "else:\n",
    "    print(\"Trouvé\")\n",
    "\n"
   ]
  },
  {
   "cell_type": "code",
   "execution_count": 25,
   "metadata": {},
   "outputs": [
    {
     "name": "stdout",
     "output_type": "stream",
     "text": [
      "13\n",
      "40\n",
      "20\n",
      "10\n",
      "5\n",
      "16\n",
      "8\n",
      "4\n",
      "2\n",
      "1\n"
     ]
    }
   ],
   "source": [
    "n = 13\n",
    "print(n)\n",
    "while n > 1:\n",
    "    if n % 2 ==0:\n",
    "        n=n//2\n",
    "        print(n)\n",
    "    else:\n",
    "        n=(n*3)+1\n",
    "        print(n)"
   ]
  }
 ],
 "metadata": {
  "interpreter": {
   "hash": "216f75cd39f99c65d65262401b8b889bc6d774e2a2cdf03c9225c1d6a586271e"
  },
  "kernelspec": {
   "display_name": "Python 3.9.7 64-bit ('l1-python': conda)",
   "name": "python3"
  },
  "language_info": {
   "codemirror_mode": {
    "name": "ipython",
    "version": 3
   },
   "file_extension": ".py",
   "mimetype": "text/x-python",
   "name": "python",
   "nbconvert_exporter": "python",
   "pygments_lexer": "ipython3",
   "version": "3.9.7"
  },
  "orig_nbformat": 4
 },
 "nbformat": 4,
 "nbformat_minor": 2
}

{
 "cells": [
  {
   "cell_type": "code",
   "execution_count": 14,
   "metadata": {},
   "outputs": [
    {
     "name": "stdout",
     "output_type": "stream",
     "text": [
      "<class 'tuple'>\n",
      "342094\n",
      "1 jours 3 heures 46 minutes 40 secondes\n"
     ]
    }
   ],
   "source": [
    "def tempsEnSeconde(temps):\n",
    "    \"\"\" Renvoie la valeur en seconde de temps donné comme jour, heure, minute, seconde.\"\"\"\n",
    "    b=temps[0]*86400\n",
    "    c=temps[1]*3600\n",
    "    d=temps[2]*60\n",
    "    e=temps[3]*1\n",
    "    a = b + c + d + e\n",
    "    return a\n",
    "\n",
    "\n",
    "    \n",
    "\n",
    "temps = (3,23,1,34)\n",
    "print(type(temps))\n",
    "print(tempsEnSeconde(temps))  \n",
    "\n",
    "def secondeEnTemps(seconde):\n",
    "    \n",
    "    temps1 = (seconde // 86400, seconde % 86400 // 3600, seconde % 3600 // 60, seconde % 60)\n",
    "    \n",
    "    return temps1\n",
    "\n",
    "\n",
    "\n",
    "\n",
    "temps = secondeEnTemps(100000)\n",
    "\n",
    "print(temps[0],\"jours\",temps[1],\"heures\",temps[2],\"minutes\",temps[3],\"secondes\")\n",
    "\n",
    "\n"
   ]
  },
  {
   "cell_type": "code",
   "execution_count": 2,
   "metadata": {},
   "outputs": [
    {
     "name": "stdout",
     "output_type": "stream",
     "text": [
      " 3 jours 5 heures 14 minutes 23 secondes"
     ]
    }
   ],
   "source": [
    "def motaupluriel(mot,nombres):\n",
    "    if nombres != 0:\n",
    "        print(\"\", nombres, mot, end=\"\")\n",
    "    if nombres > 1:\n",
    "        print(\"s\", end=\"\")\n",
    "    \n",
    "    \n",
    "        \n",
    "\n",
    "\n",
    "\n",
    "\n",
    "  \n",
    "    \n",
    "\n",
    "def afficheTemps(temps):\n",
    "    motaupluriel(\"jour\", temps[0])\n",
    "    motaupluriel(\"heure\", temps[1])\n",
    "    motaupluriel(\"minute\", temps[2])\n",
    "    motaupluriel(\"seconde\", temps[3])\n",
    "    \n",
    "    \n",
    "    \n",
    "afficheTemps((3,5,14,23))"
   ]
  },
  {
   "cell_type": "code",
   "execution_count": 13,
   "metadata": {},
   "outputs": [
    {
     "name": "stdout",
     "output_type": "stream",
     "text": [
      "5 jours 6 heures 8 minutes 7 secondes\n"
     ]
    },
    {
     "ename": "TypeError",
     "evalue": "'NoneType' object is not subscriptable",
     "output_type": "error",
     "traceback": [
      "\u001b[1;31m---------------------------------------------------------------------------\u001b[0m",
      "\u001b[1;31mTypeError\u001b[0m                                 Traceback (most recent call last)",
      "\u001b[1;32m~\\AppData\\Local\\Temp/ipykernel_8112/332694123.py\u001b[0m in \u001b[0;36m<module>\u001b[1;34m\u001b[0m\n\u001b[0;32m     11\u001b[0m         \u001b[0mprint\u001b[0m \u001b[1;33m(\u001b[0m\u001b[0ma\u001b[0m\u001b[1;33m,\u001b[0m \u001b[1;34m\"jours\"\u001b[0m\u001b[1;33m,\u001b[0m \u001b[0mb\u001b[0m\u001b[1;33m,\u001b[0m \u001b[1;34m\"heures\"\u001b[0m\u001b[1;33m,\u001b[0m \u001b[0mc\u001b[0m\u001b[1;33m,\u001b[0m \u001b[1;34m\"minutes\"\u001b[0m\u001b[1;33m,\u001b[0m \u001b[0md\u001b[0m\u001b[1;33m,\u001b[0m \u001b[1;34m\"secondes\"\u001b[0m\u001b[1;33m)\u001b[0m\u001b[1;33m\u001b[0m\u001b[1;33m\u001b[0m\u001b[0m\n\u001b[0;32m     12\u001b[0m \u001b[1;33m\u001b[0m\u001b[0m\n\u001b[1;32m---> 13\u001b[1;33m \u001b[0mafficheTemps\u001b[0m\u001b[1;33m(\u001b[0m\u001b[0mdemandeTemps\u001b[0m\u001b[1;33m(\u001b[0m\u001b[1;33m)\u001b[0m\u001b[1;33m)\u001b[0m\u001b[1;33m\u001b[0m\u001b[1;33m\u001b[0m\u001b[0m\n\u001b[0m\u001b[0;32m     14\u001b[0m \u001b[1;33m\u001b[0m\u001b[0m\n\u001b[0;32m     15\u001b[0m \u001b[1;33m\u001b[0m\u001b[0m\n",
      "\u001b[1;32m~\\AppData\\Local\\Temp/ipykernel_8112/3139495473.py\u001b[0m in \u001b[0;36mafficheTemps\u001b[1;34m(temps)\u001b[0m\n\u001b[0;32m     15\u001b[0m \u001b[1;33m\u001b[0m\u001b[0m\n\u001b[0;32m     16\u001b[0m \u001b[1;32mdef\u001b[0m \u001b[0mafficheTemps\u001b[0m\u001b[1;33m(\u001b[0m\u001b[0mtemps\u001b[0m\u001b[1;33m)\u001b[0m\u001b[1;33m:\u001b[0m\u001b[1;33m\u001b[0m\u001b[1;33m\u001b[0m\u001b[0m\n\u001b[1;32m---> 17\u001b[1;33m     \u001b[0mmotaupluriel\u001b[0m\u001b[1;33m(\u001b[0m\u001b[1;34m\"jour\"\u001b[0m\u001b[1;33m,\u001b[0m \u001b[0mtemps\u001b[0m\u001b[1;33m[\u001b[0m\u001b[1;36m0\u001b[0m\u001b[1;33m]\u001b[0m\u001b[1;33m)\u001b[0m\u001b[1;33m\u001b[0m\u001b[1;33m\u001b[0m\u001b[0m\n\u001b[0m\u001b[0;32m     18\u001b[0m     \u001b[0mmotaupluriel\u001b[0m\u001b[1;33m(\u001b[0m\u001b[1;34m\"heure\"\u001b[0m\u001b[1;33m,\u001b[0m \u001b[0mtemps\u001b[0m\u001b[1;33m[\u001b[0m\u001b[1;36m1\u001b[0m\u001b[1;33m]\u001b[0m\u001b[1;33m)\u001b[0m\u001b[1;33m\u001b[0m\u001b[1;33m\u001b[0m\u001b[0m\n\u001b[0;32m     19\u001b[0m     \u001b[0mmotaupluriel\u001b[0m\u001b[1;33m(\u001b[0m\u001b[1;34m\"minute\"\u001b[0m\u001b[1;33m,\u001b[0m \u001b[0mtemps\u001b[0m\u001b[1;33m[\u001b[0m\u001b[1;36m2\u001b[0m\u001b[1;33m]\u001b[0m\u001b[1;33m)\u001b[0m\u001b[1;33m\u001b[0m\u001b[1;33m\u001b[0m\u001b[0m\n",
      "\u001b[1;31mTypeError\u001b[0m: 'NoneType' object is not subscriptable"
     ]
    }
   ],
   "source": [
    "def demandeTemps():\n",
    "    a = int(input(\"Entrez le nombre de jours\"))\n",
    "    b = int(input(\"Entrez le nombre d'heures\"))\n",
    "    c = int(input(\"Entrez le nombre de minutes\"))\n",
    "    d = int(input(\"Entrez le nombre de secondes\"))\n",
    "\n",
    "    \n",
    "    if a > 24 and b > 60 and c > 60 and d > 60:\n",
    "        pass\n",
    "    else:\n",
    "        print (a, \"jours\", b, \"heures\", c, \"minutes\", d, \"secondes\")\n",
    "\n",
    "afficheTemps(demandeTemps())\n",
    "\n",
    "\n",
    "    \n",
    "\n",
    "\n",
    "    \n",
    "\n",
    "\n",
    "\n",
    "                      \n"
   ]
  }
 ],
 "metadata": {
  "interpreter": {
   "hash": "216f75cd39f99c65d65262401b8b889bc6d774e2a2cdf03c9225c1d6a586271e"
  },
  "kernelspec": {
   "display_name": "Python 3.9.7 64-bit ('l1-python': conda)",
   "name": "python3"
  },
  "language_info": {
   "codemirror_mode": {
    "name": "ipython",
    "version": 3
   },
   "file_extension": ".py",
   "mimetype": "text/x-python",
   "name": "python",
   "nbconvert_exporter": "python",
   "pygments_lexer": "ipython3",
   "version": "3.9.7"
  },
  "orig_nbformat": 4
 },
 "nbformat": 4,
 "nbformat_minor": 2
}

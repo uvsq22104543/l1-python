{
 "cells": [
  {
   "cell_type": "code",
   "execution_count": 12,
   "metadata": {},
   "outputs": [
    {
     "name": "stdout",
     "output_type": "stream",
     "text": [
      "<class 'tuple'>\n",
      "342094\n",
      "1 jours 3 heures 46 minutes 40 secondes\n"
     ]
    }
   ],
   "source": [
    "def tempsEnSeconde(temps):\n",
    "    \"\"\" Renvoie la valeur en seconde de temps donné comme jour, heure, minute, seconde.\"\"\"\n",
    "    b=temps[0]*86400\n",
    "    c=temps[1]*3600\n",
    "    d=temps[2]*60\n",
    "    e=temps[3]*1\n",
    "    a = b + c + d + e\n",
    "    return a\n",
    "\n",
    "\n",
    "    \n",
    "\n",
    "temps = (3,23,1,34)\n",
    "print(type(temps))\n",
    "print(tempsEnSeconde(temps))  \n",
    "\n",
    "def secondeEnTemps(seconde):\n",
    "    \n",
    "    temps1 = (seconde // 86400, seconde % 86400 // 3600, seconde % 3600 // 60, seconde % 60)\n",
    "    \n",
    "    return temps1\n",
    "\n",
    "\n",
    "\n",
    "\n",
    "temps = secondeEnTemps(100000)\n",
    "\n",
    "print(temps[0],\"jours\",temps[1],\"heures\",temps[2],\"minutes\",temps[3],\"secondes\")\n",
    "\n",
    "\n"
   ]
  },
  {
   "cell_type": "code",
   "execution_count": 4,
   "metadata": {},
   "outputs": [],
   "source": [
    "def motaupluriel(mot,nombres):\n",
    "    if nombres > 1:\n",
    "        return mot + \"s\"\n",
    "    elif nombres > 0:\n",
    "        return mot\n",
    "    else:\n",
    "        return \"\"\n",
    "\n",
    "\n",
    "\n",
    "\n",
    "  \n",
    "    \n",
    "\n",
    "def afficheTemps(temps):\n",
    "    motaupluriel(\"jour\", temps[0])\n",
    "    motaupluriel(\"heure\", temps[1])\n",
    "    motaupluriel(\"minute\", temps[2])\n",
    "    motaupluriel(\"seconde\", temps[3])\n",
    "    \n",
    "    \n",
    "    \n",
    "afficheTemps((1,0,14,23))"
   ]
  }
 ],
 "metadata": {
  "interpreter": {
   "hash": "216f75cd39f99c65d65262401b8b889bc6d774e2a2cdf03c9225c1d6a586271e"
  },
  "kernelspec": {
   "display_name": "Python 3.9.7 64-bit ('l1-python': conda)",
   "name": "python3"
  },
  "language_info": {
   "codemirror_mode": {
    "name": "ipython",
    "version": 3
   },
   "file_extension": ".py",
   "mimetype": "text/x-python",
   "name": "python",
   "nbconvert_exporter": "python",
   "pygments_lexer": "ipython3",
   "version": "3.9.7"
  },
  "orig_nbformat": 4
 },
 "nbformat": 4,
 "nbformat_minor": 2
}
